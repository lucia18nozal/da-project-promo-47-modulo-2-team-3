{
 "cells": [
  {
   "cell_type": "code",
   "execution_count": 1,
   "metadata": {},
   "outputs": [],
   "source": [
    "# Importanción de librerías.\n",
    "import spotipy\n",
    "from spotipy.oauth2 import SpotifyClientCredentials\n",
    "import pandas as pd\n",
    "import requests"
   ]
  },
  {
   "cell_type": "code",
   "execution_count": 3,
   "metadata": {},
   "outputs": [],
   "source": [
    "# Credenciales de Spotify.\n",
    "CLIENT_ID = 'a018711755a146b2a678a93741dc6041'\n",
    "CLIENT_SECRET = '51fa44e4b57343f19c810b9a75089da6'\n",
    "\n",
    "# Autenticación con Spotify.\n",
    "auth_manager = SpotifyClientCredentials(client_id=CLIENT_ID, client_secret=CLIENT_SECRET)\n",
    "sp = spotipy.Spotify(auth_manager=auth_manager)"
   ]
  },
  {
   "cell_type": "code",
   "execution_count": 4,
   "metadata": {},
   "outputs": [],
   "source": [
    "# Búsqueda en la API de Spotify a través de la librería spotipy.\n",
    "datos = sp.search(q=\"genre:rock year:2020\", type='track', limit=50, offset=0)"
   ]
  },
  {
   "cell_type": "code",
   "execution_count": 5,
   "metadata": {},
   "outputs": [],
   "source": [
    "# Géneros y rango de años elegidos.\n",
    "genres = [\"pop\", \"rock\", \"jazz\", \"hip hop\"]\n",
    "year_start = 2002\n",
    "year_end = 2007\n",
    "\n",
    "# Almacenar los resultados de canciones y álbumes en listas.\n",
    "lista_canciones_albumes = [] \n",
    "lista_artistas = []"
   ]
  },
  {
   "cell_type": "code",
   "execution_count": 6,
   "metadata": {},
   "outputs": [
    {
     "data": {
      "text/plain": [
       "'album'"
      ]
     },
     "execution_count": 6,
     "metadata": {},
     "output_type": "execute_result"
    }
   ],
   "source": [
    "# Acceder a los detalles del álbum de la primera canción que aparece en la lista de resultados que te devuelve la API de Spotify.\n",
    "datos['tracks']['items'][0]['album']['type']\n"
   ]
  },
  {
   "cell_type": "code",
   "execution_count": null,
   "metadata": {},
   "outputs": [],
   "source": [
    "# Bucle para recorrer los géneros de la lista 'genres'.\n",
    "for genre in genres: \n",
    "    # Realizar la búsqueda en la API de Spotify, buscando canciones (tracks) y álbumes (albums).\n",
    "    # Se busca por género y por rango de años, limitando los resultados a 50 y estableciendo un desplazamiento (offset) de 951.\n",
    "    datos = sp.search(q=f\"genre:{genre} year:{year_start}-{year_end}\", type='track,album', limit=50, offset=951)\n",
    "\n",
    "    # Recorremos la lista de canciones encontradas en los resultados de la búsqueda.\n",
    "    for item in datos['tracks']['items']: # 'tracks' contiene las canciones encontradas.\n",
    "        \n",
    "        # Agregamos, para cada canción, un diccionario con detalles relevantes a la lista.\n",
    "        lista_canciones_albumes.append(\n",
    "            {\n",
    "                \"nombre_cancion\":item['name'],\n",
    "                \"nombre_artista\":item['artists'][0]['name'],\n",
    "                'genre':genre,                 \n",
    "                \"type\":  item['album']['type'],\n",
    "                \"year\": item['album']['release_date'][:4],\n",
    "                \"id\": item['id']\n",
    "            }\n",
    "        )\n",
    "\n",
    "        # Agregamos el nombre del artista a la lista.\n",
    "        lista_artistas.append(\n",
    "            {\n",
    "                \"nombre_artista\":item['artists'][0]['name'],\n",
    "            }\n",
    "        )"
   ]
  },
  {
   "cell_type": "code",
   "execution_count": 38,
   "metadata": {},
   "outputs": [
    {
     "data": {
      "text/plain": [
       "3850"
      ]
     },
     "execution_count": 38,
     "metadata": {},
     "output_type": "execute_result"
    }
   ],
   "source": [
    "# Longitud de la lista de artistas.\n",
    "len(lista_artistas)"
   ]
  },
  {
   "cell_type": "code",
   "execution_count": 39,
   "metadata": {},
   "outputs": [
    {
     "data": {
      "text/plain": [
       "3850"
      ]
     },
     "execution_count": 39,
     "metadata": {},
     "output_type": "execute_result"
    }
   ],
   "source": [
    "# Longitud de la lista de canciones_albumes.\n",
    "len(lista_canciones_albumes)"
   ]
  },
  {
   "cell_type": "code",
   "execution_count": 40,
   "metadata": {},
   "outputs": [],
   "source": [
    "# Convierte la lista de diccionarios en un DataFrame de Pandas.\n",
    "df_lista_artistas = pd.DataFrame(lista_artistas)"
   ]
  },
  {
   "cell_type": "code",
   "execution_count": 41,
   "metadata": {},
   "outputs": [],
   "source": [
    "# Limpia la lista lista_artistas. Si un artista aparece más de una vez en la columna, ahora solo aparecerá una vez en el conjunto.\n",
    "lista_artistas_limpia = set(df_lista_artistas[\"nombre_artista\"])\n"
   ]
  },
  {
   "cell_type": "code",
   "execution_count": 43,
   "metadata": {},
   "outputs": [],
   "source": [
    "# Convierte la lista de diccionarios en un DataFrame de Pandas.\n",
    "df_lista_canciones_albumes = pd.DataFrame(lista_canciones_albumes)\n",
    "\n",
    "# Guarda el DataFrame de canciones en un archivo CSV, eliminando el índice, para que los datos puedan ser utilizados más fácilmente fuera de Python.\n",
    "df_lista_canciones_albumes.to_csv(\"canciones.csv\", index= False)\n"
   ]
  },
  {
   "cell_type": "code",
   "execution_count": 44,
   "metadata": {},
   "outputs": [],
   "source": [
    "# Convierte la lista de diccionarios en un DataFrame de Pandas.\n",
    "df_artistas_limpia = pd.DataFrame(lista_artistas_limpia)\n",
    "\n",
    "# Guarda el DataFrame de artistas en un archivo CSV, eliminando el índice, para que los datos puedan ser utilizados más fácilmente fuera de Python.\n",
    "df_artistas_limpia.to_csv(\"artistas.csv\", index = False)"
   ]
  },
  {
   "cell_type": "code",
   "execution_count": 45,
   "metadata": {},
   "outputs": [],
   "source": [
    "# Como ya tenemos los dos archivos CSV con la información de artistas, canciones y álbumes, desde la API de last.fm sacamos la información de cada artista.\n",
    "\n",
    "# Credenciales de last.fm.\n",
    "API_KEY = 'bb92344bdb091e7c718014c1dcd0e28d'  \n",
    "BASE_URL = 'http://ws.audioscrobbler.com/2.0/'"
   ]
  },
  {
   "cell_type": "code",
   "execution_count": 48,
   "metadata": {},
   "outputs": [],
   "source": [
    "# Declaración nueva lista para posteriormente añadir os datos\n",
    "datos_artistas = []"
   ]
  },
  {
   "cell_type": "code",
   "execution_count": 49,
   "metadata": {},
   "outputs": [
    {
     "name": "stdout",
     "output_type": "stream",
     "text": [
      "Ocurrió un error inesperado con Luis Salinas: Expecting value: line 1 column 1 (char 0)\n"
     ]
    }
   ],
   "source": [
    "# Bucle para recorrer la lista de artistas ya limpia.\n",
    "for artista in lista_artistas_limpia:\n",
    "\n",
    "    # Parámetros para hacer una solicitud a la API.\n",
    "    params_info = {\n",
    "        \"method\": \"artist.getInfo\", \n",
    "        \"api_key\": API_KEY,\n",
    "        \"format\": \"json\", \n",
    "        \"artist\": artista\n",
    "    }\n",
    "    try:\n",
    "        # Consulta de la API. Realizamos la solicitud GET a la API con los parámetros definidos.\n",
    "        response_info = requests.get(BASE_URL, params = params_info)\n",
    "\n",
    "        # Verificamos si la solicitud fue exitosa (código de estado 200), sino se imprime un mensaje de error con el nombre del artista y el código de estado.\n",
    "        if response_info.status_code !=200:\n",
    "            print(f\"Error en la solicitud para {artista}: {response_info.status_code}\")\n",
    "            continue\n",
    "\n",
    "        # Si la solicitud fue exitosa, convertimos la respuesta en formato JSON.\n",
    "        data_json = response_info.json()\n",
    "\n",
    "        # Extraemos la información del artista del JSON de la respuesta.\n",
    "        artist_data = data_json.get('artist', {})\n",
    "\n",
    "        # Extraemos el resumen biográfico del artista. Si no está disponible, se asigna \"Información no disponible\".\n",
    "        resumen = artist_data.get('bio', {}).get('summary', \"Información no disponible\")\n",
    "\n",
    "        # Extraemos la popularidad (número de oyentes). Si no está disponible, se asigna \"No disponible\".\n",
    "        popularidad = artist_data.get('stats', {}).get('listeners', \"No disponible\")\n",
    "\n",
    "        # Extraemos el número de reproducciones (playcount). Si no está disponible, se asigna \"No disponible\".\n",
    "        reproducciones = artist_data.get('stats', {}).get('playcount', \"No disponible\")\n",
    "\n",
    "        # Extraemos los artistas similares. Si no hay artistas similares, se asigna una lista vacía.\n",
    "        similares = [sim['name'] for sim in artist_data.get('similar', {}).get('artist', [])]\n",
    "\n",
    "        # Añadimos un diccionario con la información del artista a la lista declarada anteriormente.\n",
    "        # El diccionario contiene el nombre del artista, el resumen biográfico, la popularidad, el número de reproducciones y los artistas similares.\n",
    "        datos_artistas.append({\"artista\": artista, \n",
    "                               \"resumen\": resumen,\n",
    "                                \"popularidad\": popularidad,\n",
    "                                \"reproducciones\": reproducciones,\n",
    "                                \"similares\": similares})\n",
    "    \n",
    "    # Si ocurre un error debido a que falta alguna clave en el JSON capturamos el KeyError y mostramos un mensaje indicando que falta información para ese artista.\n",
    "    except KeyError:\n",
    "        print(f\"Falta información para el artista: {artista}\")\n",
    "\n",
    "    # Si ocurre cualquier otro error inesperado (por ejemplo, problemas de red o conexión con la API), capturamos la excepción general y mostramos el mensaje de error junto con el nombre del artista.\n",
    "    except Exception as e:\n",
    "        print(f\"Ocurrió un error inesperado con {artista}: {e}\")\n",
    "        \n",
    "    "
   ]
  },
  {
   "cell_type": "code",
   "execution_count": 50,
   "metadata": {},
   "outputs": [],
   "source": [
    "# Convierte la lista de diccionarios en un DataFrame de Pandas.\n",
    "df_datos_artistas = pd.DataFrame(datos_artistas)\n",
    "\n",
    "# Guarda el DataFrame de datos_artistas en un archivo CSV, eliminando el índice, para que los datos puedan ser utilizados más fácilmente fuera de Python.\n",
    "df_datos_artistas.to_csv(\"datos_artistas.csv\", index = False)"
   ]
  }
 ],
 "metadata": {
  "kernelspec": {
   "display_name": "Python 3",
   "language": "python",
   "name": "python3"
  },
  "language_info": {
   "codemirror_mode": {
    "name": "ipython",
    "version": 3
   },
   "file_extension": ".py",
   "mimetype": "text/x-python",
   "name": "python",
   "nbconvert_exporter": "python",
   "pygments_lexer": "ipython3",
   "version": "3.11.9"
  }
 },
 "nbformat": 4,
 "nbformat_minor": 2
}
