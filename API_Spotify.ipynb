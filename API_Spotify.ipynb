{
 "cells": [
  {
   "cell_type": "markdown",
   "metadata": {},
   "source": [
    "## Proyecto Music Stream\n",
    "\n",
    "**Para la profesora:** 👩🏻‍🏫\n",
    "Explicar cual es el objetivo del proyecto y cuales son las fases por las que pasará el proyecto.\n",
    "\n",
    "### Objetivo\n",
    "\n",
    "1. Crear una bases de datos para almacenar información de canciones y artistas. \n",
    "2. Extraer información de la base de datos para responder preguntas sobre la música almacenada.\n",
    "\n",
    "### Fases del proyecto \n",
    "\n",
    "![](./assets/esquema_de_fases.png)\n",
    "\n",
    "**Fase 1: Extraer Datos**\n",
    "1. Extraer información de Api Spotify\n",
    "2. Extraer información de API Last FM\n",
    "3. Guardar esa información en CSV\n",
    "\n",
    "**Fase 2:Bases de datos**\n",
    "1. Diseñar la Base de Datos\n",
    "2. Crear la bases de datos\n",
    "3. Insertar los valores en la bases de datos\n",
    "   \n",
    "**Fase 3:Extraer información**\n",
    "1. Extraer información de la base de datos para responder preguntas sobre la música almacenada.\n",
    "   "
   ]
  },
  {
   "cell_type": "markdown",
   "metadata": {},
   "source": [
    "## Comencemos... Fase 1.1 Extraer información de Api Spotify\n"
   ]
  },
  {
   "cell_type": "code",
   "execution_count": 2,
   "metadata": {},
   "outputs": [],
   "source": [
    "## - Explicar como usar la libreria spotipy \n",
    "import spotipy\n",
    "from spotipy.oauth2 import SpotifyClientCredentials"
   ]
  },
  {
   "cell_type": "code",
   "execution_count": 29,
   "metadata": {},
   "outputs": [],
   "source": [
    "import pandas as pd\n",
    "import requests"
   ]
  },
  {
   "cell_type": "code",
   "execution_count": 4,
   "metadata": {},
   "outputs": [],
   "source": [
    "# Coloca tus credenciales aquí\n",
    "CLIENT_ID = 'a018711755a146b2a678a93741dc6041'\n",
    "CLIENT_SECRET = '51fa44e4b57343f19c810b9a75089da6'\n",
    "\n",
    "# Autenticación\n",
    "auth_manager = SpotifyClientCredentials(client_id=CLIENT_ID, client_secret=CLIENT_SECRET)\n",
    "sp = spotipy.Spotify(auth_manager=auth_manager)"
   ]
  },
  {
   "cell_type": "markdown",
   "metadata": {},
   "source": [
    "### Como usar el método de search de Spotipy"
   ]
  },
  {
   "cell_type": "code",
   "execution_count": 5,
   "metadata": {},
   "outputs": [],
   "source": [
    "datos = sp.search(q=\"genre:rock year:2020\", type='track', limit=50, offset=0)"
   ]
  },
  {
   "cell_type": "code",
   "execution_count": null,
   "metadata": {},
   "outputs": [],
   "source": [
    "datos"
   ]
  },
  {
   "cell_type": "code",
   "execution_count": 22,
   "metadata": {},
   "outputs": [],
   "source": [
    "genres = [\"pop\" , \"rock\",\"jazz\",\"hip hop\"]\n",
    "year_start = 2002\n",
    "year_end = 2007\n",
    "\n",
    "lista_canciones_albumes = [] \n",
    "lista_artistas = []"
   ]
  },
  {
   "cell_type": "code",
   "execution_count": 7,
   "metadata": {},
   "outputs": [
    {
     "data": {
      "text/plain": [
       "'album'"
      ]
     },
     "execution_count": 7,
     "metadata": {},
     "output_type": "execute_result"
    }
   ],
   "source": [
    "datos['tracks']['items'][0]['album']['type']\n"
   ]
  },
  {
   "cell_type": "code",
   "execution_count": 51,
   "metadata": {},
   "outputs": [],
   "source": [
    "for genre in genres: \n",
    "    datos = sp.search(q=f\"genre:{genre} year:{year_start}-{year_end}\", type='track,album', limit=50, offset=301)\n",
    "    datos\n",
    "    for item in datos['tracks']['items']: \n",
    "        \n",
    "        lista_canciones_albumes.append(\n",
    "            {\n",
    "                \"nombre_cancion\":item['name'],\n",
    "                \"nombre_artista\":item['artists'][0]['name'],\n",
    "                'genre':genre,                 \n",
    "                \"type\":  item['album']['type'],\n",
    "                \"year\": item['album']['release_date'][:4],\n",
    "                \"id\": item['id']\n",
    "            }\n",
    "        )\n",
    "        lista_artistas.append(\n",
    "            {\n",
    "                \"nombre_artista\":item['artists'][0]['name'],\n",
    "            }\n",
    "        )\n",
    "   "
   ]
  },
  {
   "cell_type": "code",
   "execution_count": 52,
   "metadata": {},
   "outputs": [
    {
     "data": {
      "text/plain": [
       "1800"
      ]
     },
     "execution_count": 52,
     "metadata": {},
     "output_type": "execute_result"
    }
   ],
   "source": [
    "len(lista_artistas)"
   ]
  },
  {
   "cell_type": "code",
   "execution_count": 53,
   "metadata": {},
   "outputs": [
    {
     "data": {
      "text/plain": [
       "1800"
      ]
     },
     "execution_count": 53,
     "metadata": {},
     "output_type": "execute_result"
    }
   ],
   "source": [
    "len(lista_canciones_albumes)"
   ]
  },
  {
   "cell_type": "code",
   "execution_count": 54,
   "metadata": {},
   "outputs": [],
   "source": [
    "#guardar en un csv\n",
    "df_lista = pd.DataFrame(lista_canciones_albumes)\n",
    "\n",
    "df_lista.to_csv(\"canciones.csv\", index= False)\n",
    "\n",
    "## guardo ellistao de artistas en un csv. Verificar que los artistas sea unico"
   ]
  },
  {
   "cell_type": "code",
   "execution_count": 55,
   "metadata": {},
   "outputs": [],
   "source": [
    "df_lista_artistas = pd.DataFrame(lista_artistas)\n",
    "df_lista_artistas.to_csv(\"artistas.csv\", index = False)"
   ]
  },
  {
   "cell_type": "code",
   "execution_count": null,
   "metadata": {},
   "outputs": [],
   "source": []
  }
 ],
 "metadata": {
  "kernelspec": {
   "display_name": "Python 3",
   "language": "python",
   "name": "python3"
  },
  "language_info": {
   "codemirror_mode": {
    "name": "ipython",
    "version": 3
   },
   "file_extension": ".py",
   "mimetype": "text/x-python",
   "name": "python",
   "nbconvert_exporter": "python",
   "pygments_lexer": "ipython3",
   "version": "3.11.9"
  }
 },
 "nbformat": 4,
 "nbformat_minor": 2
}
